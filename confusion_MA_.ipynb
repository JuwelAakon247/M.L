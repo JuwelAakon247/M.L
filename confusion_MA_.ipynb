{
  "nbformat": 4,
  "nbformat_minor": 0,
  "metadata": {
    "colab": {
      "provenance": [],
      "authorship_tag": "ABX9TyN9IIeoBalTeciN7jrTy8wm",
      "include_colab_link": true
    },
    "kernelspec": {
      "name": "python3",
      "display_name": "Python 3"
    },
    "language_info": {
      "name": "python"
    }
  },
  "cells": [
    {
      "cell_type": "markdown",
      "metadata": {
        "id": "view-in-github",
        "colab_type": "text"
      },
      "source": [
        "<a href=\"https://colab.research.google.com/github/JuwelAakon247/M.L/blob/main/confusion_MA_.ipynb\" target=\"_parent\"><img src=\"https://colab.research.google.com/assets/colab-badge.svg\" alt=\"Open In Colab\"/></a>"
      ]
    },
    {
      "cell_type": "code",
      "execution_count": 1,
      "metadata": {
        "id": "KMfQ-9bCb4_2"
      },
      "outputs": [],
      "source": [
        "from sklearn.datasets import make_classification\n",
        "from sklearn.model_selection import train_test_split\n"
      ]
    },
    {
      "cell_type": "code",
      "source": [
        "# Generate a dataset with 1000 samples, 2 classes (binary), with slight imbalance\n",
        "X, y = make_classification(\n",
        "    n_samples=1000,\n",
        "    n_classes=2,\n",
        "    weights=[0.6, 0.4],  # 60% class 0, 40% class 1\n",
        "    n_features=2,\n",
        "    n_redundant=0,\n",
        "    n_clusters_per_class=1,\n",
        "    random_state=42\n",
        ")"
      ],
      "metadata": {
        "id": "Cgf9Os-1cEcQ"
      },
      "execution_count": 2,
      "outputs": []
    },
    {
      "cell_type": "code",
      "source": [
        "# Initial split: 80% for training+validation, 20% for test\n",
        "X_temp, X_test, y_temp, y_test = train_test_split(X, y, test_size=0.2, random_state=42)\n",
        "\n",
        "# From the 80%, split into 60% training and 20% validation (i.e., 75% train / 25% val of X_temp)\n",
        "X_train, X_val, y_train, y_val = train_test_split(X_temp, y_temp, test_size=0.25, random_state=42)\n",
        "\n",
        "# Check sizes\n",
        "print(f\"Training set: {X_train.shape}, Validation set: {X_val.shape}, Test set: {X_test.shape}\")"
      ],
      "metadata": {
        "colab": {
          "base_uri": "https://localhost:8080/"
        },
        "id": "mj8E8-FNcL1P",
        "outputId": "3c6d9302-36ac-403f-e323-95f3f73d6de1"
      },
      "execution_count": 3,
      "outputs": [
        {
          "output_type": "stream",
          "name": "stdout",
          "text": [
            "Training set: (600, 2), Validation set: (200, 2), Test set: (200, 2)\n"
          ]
        }
      ]
    },
    {
      "cell_type": "code",
      "source": [
        "#Output: Training set: (600, 2), Validation set: (200, 2), Test set: (200, 2)\n",
        "\n",
        "\n",
        "\n",
        "from sklearn.tree import DecisionTreeClassifier\n",
        "\n",
        "# Initialize and train Decision Tree\n",
        "clf = DecisionTreeClassifier(random_state=42)\n",
        "clf.fit(X_train, y_train)\n",
        "\n",
        "# Predict on validation set\n",
        "y_pred_val = clf.predict(X_val)\n",
        "y_prob_val = clf.predict_proba(X_val)[:, 1]  # probabilities for ROC curve\n",
        "\n",
        "# Show predictions shape for confirmation\n",
        "print(\"Predictions shape:\", y_pred_val.shape)\n"
      ],
      "metadata": {
        "colab": {
          "base_uri": "https://localhost:8080/"
        },
        "id": "fosQD659cfjv",
        "outputId": "28893032-0b4b-4a72-8f63-6de5024d2a53"
      },
      "execution_count": 4,
      "outputs": [
        {
          "output_type": "stream",
          "name": "stdout",
          "text": [
            "Predictions shape: (200,)\n"
          ]
        }
      ]
    },
    {
      "cell_type": "code",
      "source": [
        "import matplotlib.pyplot as plt\n",
        "import seaborn as sns\n",
        "import numpy as np\n",
        "from sklearn.metrics import confusion_matrix\n"
      ],
      "metadata": {
        "id": "QvrKd0kHchGH"
      },
      "execution_count": 5,
      "outputs": []
    },
    {
      "cell_type": "code",
      "source": [
        "cm = confusion_matrix(y_val, y_pred_val)\n"
      ],
      "metadata": {
        "id": "pTq0THnwcynX"
      },
      "execution_count": 6,
      "outputs": []
    },
    {
      "cell_type": "code",
      "source": [
        "title = \"Confusion Matrix - DValidation Set\""
      ],
      "metadata": {
        "id": "vumnR4fhc2Uv"
      },
      "execution_count": 7,
      "outputs": []
    },
    {
      "cell_type": "code",
      "source": [
        "plt.rcParams.update({\n",
        "    'font.size': 18,\n",
        "    'font.family': 'serif',\n",
        "    'axes.titlesize': 18,\n",
        "    'axes.labelsize': 18,\n",
        "    'xtick.labelsize': 18,\n",
        "    'ytick.labelsize': 18\n",
        "})"
      ],
      "metadata": {
        "id": "tyDwdk06c5hv"
      },
      "execution_count": 8,
      "outputs": []
    },
    {
      "cell_type": "code",
      "source": [
        "fig, ax = plt.subplots(figsize=(8, 4))"
      ],
      "metadata": {
        "colab": {
          "base_uri": "https://localhost:8080/",
          "height": 386
        },
        "id": "uLPeGWTVdA0g",
        "outputId": "2287ef04-a874-41fe-8856-2a39ca5c5594"
      },
      "execution_count": 9,
      "outputs": [
        {
          "output_type": "display_data",
          "data": {
            "text/plain": [
              "<Figure size 800x400 with 1 Axes>"
            ],
            "image/png": "[encoded data removed]"
          },
          "metadata": {}
        }
      ]
    },
    {
      "cell_type": "code",
      "source": [
        "cmap = sns.color_palette(\"crest\", as_cmap=True)\n"
      ],
      "metadata": {
        "id": "KWsj2ctedFRP"
      },
      "execution_count": 10,
      "outputs": []
    },
    {
      "cell_type": "code",
      "source": [
        "sns.heatmap(cm, annot=True, fmt='d', cmap=cmap, cbar=True,\n",
        "            ax=ax, annot_kws={\"fontsize\": 18}, linewidths=0.5, linecolor='white')"
      ],
      "metadata": {
        "colab": {
          "base_uri": "https://localhost:8080/"
        },
        "id": "ds6yh0DidIAY",
        "outputId": "607d8f79-b875-4294-f27c-653bf05a52f0"
      },
      "execution_count": 11,
      "outputs": [
        {
          "output_type": "execute_result",
          "data": {
            "text/plain": [
              "<Axes: >"
            ]
          },
          "metadata": {},
          "execution_count": 11
        }
      ]
    },
    {
      "cell_type": "code",
      "source": [
        "ax.set_title(title)\n",
        "ax.set_xlabel(\"Predicted Labels\")\n",
        "ax.set_ylabel(\"True Labels\")\n",
        "ax.set_xticklabels([\"Class 0\", \"Class 1\"], rotation=45, fontsize=14)\n",
        "ax.set_yticklabels([\"Class 0\", \"Class 1\"], rotation=0, fontsize=14)\n"
      ],
      "metadata": {
        "colab": {
          "base_uri": "https://localhost:8080/"
        },
        "id": "w3Sw965GdMyI",
        "outputId": "e2e1b807-0439-4714-e798-1fe5c12ff444"
      },
      "execution_count": 12,
      "outputs": [
        {
          "output_type": "execute_result",
          "data": {
            "text/plain": [
              "[Text(0, 0.5, 'Class 0'), Text(0, 1.5, 'Class 1')]"
            ]
          },
          "metadata": {},
          "execution_count": 12
        }
      ]
    },
    {
      "cell_type": "code",
      "source": [
        "ax.hlines([1], *ax.get_xlim(), colors='white', linewidth=4)\n",
        "ax.vlines([1], *ax.get_ylim(), colors='white', linewidth=4)\n"
      ],
      "metadata": {
        "colab": {
          "base_uri": "https://localhost:8080/"
        },
        "id": "KdYW2zg-dQmH",
        "outputId": "3c9b5246-7fb7-4b36-e2ab-5f2a37383a95"
      },
      "execution_count": 13,
      "outputs": [
        {
          "output_type": "execute_result",
          "data": {
            "text/plain": [
              "<matplotlib.collections.LineCollection at 0x7afbbd18afd0>"
            ]
          },
          "metadata": {},
          "execution_count": 13
        }
      ]
    },
    {
      "cell_type": "code",
      "source": [
        "plt.tight_layout()\n",
        "plt.show()\n",
        "\n"
      ],
      "metadata": {
        "colab": {
          "base_uri": "https://localhost:8080/",
          "height": 34
        },
        "id": "kxnoDxhQdTrH",
        "outputId": "b3cf23b7-ad4a-4981-c185-20311611b3f8"
      },
      "execution_count": 14,
      "outputs": [
        {
          "output_type": "display_data",
          "data": {
            "text/plain": [
              "<Figure size 640x480 with 0 Axes>"
            ]
          },
          "metadata": {}
        }
      ]
    }
  ]
}